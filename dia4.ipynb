{
 "cells": [
  {
   "cell_type": "code",
   "execution_count": null,
   "id": "55773b6e",
   "metadata": {},
   "outputs": [],
   "source": [
    "#Hacer un diccionario\n",
    "mi_contacto={\n",
    "    \"nombre\": \"Marcelo\",\n",
    "    \"apellido\": \"Valdez\",\n",
    "    \"celular\": \"098466773\",\n",
    "    \"edad\": 21\n",
    "}\n",
    "\n"
   ]
  },
  {
   "cell_type": "code",
   "execution_count": null,
   "id": "dd4612d3",
   "metadata": {},
   "outputs": [],
   "source": [
    "#acceder a los datos de los diccionarios\n",
    "mi_contacto[\"nombre\"]\n",
    "mi_contacto[\"apellido\"]"
   ]
  },
  {
   "cell_type": "code",
   "execution_count": null,
   "id": "0a131fe2",
   "metadata": {},
   "outputs": [],
   "source": [
    "#desplegar "
   ]
  },
  {
   "cell_type": "code",
   "execution_count": null,
   "id": "23cb20ad",
   "metadata": {},
   "outputs": [],
   "source": [
    "credenciales={}\n",
    "credenciales[\"nombre\"]= input(\"ingrese su nombre: \")\n",
    "print(credenciales)\n",
    "credenciales[\"edad\"]= input(\"ingrese su edad: \")\n",
    "print(credenciales)\n",
    "credenciales[\"sexo\"]= input(\"ingrese su sexo: \")\n",
    "print(credenciales)\n",
    "credenciales[\"edad\"]= input(\"ingrese su telefono: \")\n",
    "print(credenciales)\n",
    "credenciales[\"email\"]= input(\"ingrese su email :\")\n",
    "print(credenciales)\n"
   ]
  },
  {
   "cell_type": "code",
   "execution_count": null,
   "id": "5c458ca1",
   "metadata": {},
   "outputs": [],
   "source": [
    "\n",
    "tarjeta_personal={}\n",
    "#ingrese la cantidad de claves\n",
    "cantidad_claves=int(input(\"ingrese la cantidad de claves: \"))\n",
    "for x in range(1,cantidad_claves+1):\n",
    "    clave=input(f\"ingrese la clave nro {x}\")\n",
    "    valor=input(f\"ingrese el valor de la clave {x}\")\n",
    "    tarjeta_personal[clave]=valor\n",
    "print(tarjeta_personal)    \n",
    "    \n",
    "print(\"\\nOpciones:\")\n",
    "print(\"1. Crear datos nuevos\")\n",
    "print(\"2. Modificar datos\")\n",
    "print(\"3. Eliminar datos\")\n",
    "#le pedimos al usuario que meta uno de esos numeros\n",
    "numero_a_elegir= int(input(\"ingrese un numero (1, 2 o 3): \"))\n",
    "\n",
    "if numero_a_elegir==1:\n",
    "    print(\"Elegiste la primera opcion 'Crear datos nuevos'\")\n",
    "    clave_nuevo= input(\"ingrese una nueva clave: \")\n",
    "    valor_nuevo= input(\"ingrese el valor del dato: \")  \n",
    "    tarjeta_personal[clave_nuevo]=valor_nuevo\n",
    "    print(f\"la tarjeta actualizada es:{tarjeta_personal}\")\n",
    "elif numero_a_elegir==2:\n",
    "    print(\"Elegiste la segunda opcion 'Modificar datos'\")\n",
    "    clave_a_modificar= input(\"ingrese la clave a modificar: \")\n",
    "    if clave_a_modificar in tarjeta_personal:\n",
    "        valor_nuevo= input(\"ingrese su nuevo valor: \")\n",
    "        tarjeta_personal[clave_a_modificar]=valor_nuevo\n",
    "        print(f\"Dato modificado: {tarjeta_personal}\")\n",
    "elif numero_a_elegir==3:\n",
    "    print(\"Elegiste la tercera opcion'Eliminar datos'\")\n",
    "    clave_a_eliminar=input(\"ingrese la clave a eliminar: \")\n",
    "    if clave_a_eliminar in tarjeta_personal: \n",
    "        del tarjeta_personal[clave_a_eliminar]\n",
    "        print(f\"dato eliminado: {tarjeta_personal}\")\n",
    "    else:\n",
    "        (\"Esa clave no esta en la tarjeta personal\")    \n",
    "    \n",
    "else:\n",
    "    (\"Opcion no valida\")    \n",
    "        \n",
    "        \n",
    "        \n",
    "            \n",
    "        \n",
    "            \n",
    "        \n",
    "        \n"
   ]
  },
  {
   "cell_type": "code",
   "execution_count": null,
   "id": "1a339f2c",
   "metadata": {},
   "outputs": [],
   "source": [
    "agenda={}\n",
    "contactos={}\n",
    "\n",
    "print(\"\\nOpciones:\")\n",
    "print(\"1. Mostrar los contactos\")\n",
    "print(\"2. Crear contacto\")\n",
    "print(\"3. Modificar datos del contacto\")\n",
    "\n",
    "cantidad_de_contactos=int(input(\"ingrese la cantidad de contactos: \"))\n",
    "\n",
    "for x in range(1,cantidad_de_contactos+1):\n",
    "    nombre_del_contacto=input(f\"ingrese el contacto nro {x}\")\n",
    "    numero_del_contacto=int(input(f\"ingrese el numero del contacto {x}: \"))\n",
    "    \n",
    "print(contactos)\n",
    "\n",
    "numero_a_elegir=int(input(\"ingrese la opcion\"))\n",
    "if numero_a_elegir==1:\n",
    "    print(agenda[contactos])\n"
   ]
  },
  {
   "cell_type": "code",
   "execution_count": 61,
   "id": "9468192c",
   "metadata": {},
   "outputs": [
    {
     "name": "stdout",
     "output_type": "stream",
     "text": [
      "dice MIAU MIAU y corre como un toro\n"
     ]
    }
   ],
   "source": [
    "class Gato:\n",
    "    ojos=2\n",
    "    patas=4\n",
    "    cola=1\n",
    "    def __init__(self,color,raza):\n",
    "        self.color = color\n",
    "        self.raza= raza    \n",
    "    \n",
    "    def maulleo(self):\n",
    "        return \"MIAU MIAU\"\n",
    "        \n",
    "    def correr(self):\n",
    "        return \"corre como un toro\"\n",
    "pantera= Gato(\"blanco\",\"peter\")\n",
    "print(f\"dice {pantera.maulleo()} y {pantera.correr()}\")        \n",
    "        \n",
    " \n",
    "            \n"
   ]
  },
  {
   "cell_type": "code",
   "execution_count": 76,
   "id": "41c4cd5d",
   "metadata": {},
   "outputs": [
    {
     "name": "stdout",
     "output_type": "stream",
     "text": [
      "el color de pelo de ana es: castanho y su peso es: no se sabe\n",
      "el  tamanho de Matilda es: alta y su sexo es: naranja\n"
     ]
    }
   ],
   "source": [
    "class Madre:\n",
    "    cabeza=1\n",
    "    manos=2\n",
    "    piernas=2\n",
    "    def __init__(self,color_pelo, peso, tamanho, sexo):\n",
    "        self.color_pelo= color_pelo\n",
    "        self.peso= peso\n",
    "        self.tamanho=tamanho\n",
    "        self.sexo=sexo\n",
    "        \n",
    "    def caminar(self):\n",
    "        return f\"camina\"\n",
    "    \n",
    "    def hablar(self):\n",
    "        return f\"habla\"\n",
    "    \n",
    "    def modo(self):\n",
    "        return f\"es muy nerviosa\"\n",
    "       \n",
    "class Hija_1(Madre):\n",
    "    def mostrar_datos(self):\n",
    "        return f\"el color de pelo de ana es: {self.color_pelo} y su peso es: {self.sexo}\"\n",
    "    \n",
    "class Hija_2(Madre):\n",
    "    def mostrar_datos(self):\n",
    "        return f\"el  tamanho de Matilda es: {self.tamanho} y su sexo es: {self.color_pelo}\"\n",
    "    \n",
    "Ana=Hija_1(\"castanho\", \"73kg\",\"enana\",\"no se sabe\") \n",
    "Matilda=Hija_2(\"naranja\", \"50kg\", \"alta\", \"fem\")  \n",
    "\n",
    "print(Ana.mostrar_datos())\n",
    "print(Matilda.mostrar_datos())        \n",
    "    \n",
    "    \n",
    "    \n",
    "    \n",
    "      "
   ]
  }
 ],
 "metadata": {
  "kernelspec": {
   "display_name": "Python 3",
   "language": "python",
   "name": "python3"
  },
  "language_info": {
   "codemirror_mode": {
    "name": "ipython",
    "version": 3
   },
   "file_extension": ".py",
   "mimetype": "text/x-python",
   "name": "python",
   "nbconvert_exporter": "python",
   "pygments_lexer": "ipython3",
   "version": "3.13.3"
  }
 },
 "nbformat": 4,
 "nbformat_minor": 5
}
