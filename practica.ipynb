{
 "cells": [
  {
   "cell_type": "code",
   "execution_count": 18,
   "id": "10d754b2",
   "metadata": {},
   "outputs": [
    {
     "name": "stdout",
     "output_type": "stream",
     "text": [
      "lo siento marcelo  reprobaste con un promedio de 4.0\n"
     ]
    }
   ],
   "source": [
    "#Crea una función llamada evaluar_estudiante que reciba los siguientes parámetros:\n",
    "\n",
    "#nombre (Nombre del estudiante)\n",
    "#nota1, nota2, nota3 (Notas del estudiante)\n",
    "#La función debe:\n",
    "\n",
    "#Calcular el promedio de las notas.\n",
    "#Devolver un mensaje como:\n",
    "#\"Felicitaciones <nombre>, aprobaste con un promedio de <promedio>!\" si el promedio es mayor o igual a 6.\n",
    "#\"Lo siento <nombre>, reprobaste con un promedio de <promedio>.\" si es menor a 6.\n",
    "def evaluar_estudiante(nombre, nota_1, nota_2, nota_3):\n",
    "    promedio=(nota_1+nota_2+nota_3)/3\n",
    "    if promedio>=6:\n",
    "        return f\"felicitaciones {nombre} aprobaste con un promedio de {promedio}!\"\n",
    "    else:\n",
    "        return f\"lo siento {nombre} reprobaste con un promedio de {promedio}\"\n",
    "nombre=input(\"Ingrese el nombre del estudiante: \")\n",
    "nota_1=float(input(\"ingrese la primera nota: \"))\n",
    "nota_2=float(input(\"ingrese la segunda nota: \"))\n",
    "nota_3=float(input(\"ingrese la tercera  nota: \"))   \n",
    " \n",
    "mensaje=evaluar_estudiante(nombre, nota_1, nota_2, nota_3)  \n",
    "print(mensaje)       \n",
    "    \n",
    "    \n",
    "    "
   ]
  },
  {
   "cell_type": "code",
   "execution_count": 64,
   "id": "8fb7eaf7",
   "metadata": {},
   "outputs": [
    {
     "name": "stdout",
     "output_type": "stream",
     "text": [
      "marcelito\n"
     ]
    }
   ],
   "source": [
    "#Crea una función nombre_mas_largo que reciba una lista de nombres y devuelva el nombre que tenga más letras.\n",
    "lista_de_nombres=[\"marcelo\",\"marcelo\",\"marcelito\",\"ara\"]\n",
    "\n",
    "\n",
    "def nombre_mas_largo(lista_de_nombres):\n",
    "    nombre_largo=\"\"\n",
    "    for palabra in lista_de_nombres:\n",
    "        if len(palabra)>len(nombre_largo):\n",
    "            nombre_largo=palabra\n",
    "    return nombre_largo    \n",
    "            \n",
    "print(nombre_mas_largo(lista_de_nombres))    \n",
    "    \n",
    "    \n",
    "    \n",
    "    "
   ]
  },
  {
   "cell_type": "code",
   "execution_count": 33,
   "id": "7b200956",
   "metadata": {},
   "outputs": [
    {
     "name": "stdout",
     "output_type": "stream",
     "text": [
      "Bienvenido al menu\n",
      "Opcion no valida\n"
     ]
    }
   ],
   "source": [
    "#Crea un programa que pida al usuario que ingrese un número para elegir una opción del menú. Según el número que el usuario escriba, el programa debe:\n",
    "#Si elige 1, mostrar: \"Elegiste Hamburguesa\",\n",
    "#Si elige 2, mostrar: \"Elegiste Pizza\",\n",
    "#Si elige 3, mostrar: \"Elegiste Ensalada\",\n",
    "#Si escribe cualquier otro número, muestre: \"Opción no válida\".\n",
    "\n",
    "print(\"Bienvenido al menu\")\n",
    "\n",
    "numero_del_menu=int(input(\"ingrese el numero que elegiste: \"))\n",
    "if numero_del_menu==1:\n",
    "    print(\"Elegiste Hamburguesa\")\n",
    "elif numero_del_menu==2:\n",
    "    print(\"Elegiste Pizza\") \n",
    "elif numero_del_menu==3:\n",
    "    print(\"Elegiste Ensalada\")\n",
    "else:\n",
    "    print(\"Opcion no valida\")\n",
    "       "
   ]
  },
  {
   "cell_type": "code",
   "execution_count": 40,
   "id": "e09b01e7",
   "metadata": {},
   "outputs": [
    {
     "name": "stdout",
     "output_type": "stream",
     "text": [
      "[23, 557, 35, 7, 9, 43, 4, 46]\n"
     ]
    }
   ],
   "source": [
    "#Crea una función de llamada eliminar_elementoque recibe una lista de números y un número específico para eliminarlo de la lista.\n",
    "\n",
    "def eliminar_elemento(lista_de_numeros, numero_especifico):\n",
    "    lista_de_numeros.remove(numero_especifico)\n",
    "    print(lista_de_numeros)\n",
    "lista_de_numeros=[]    \n",
    "cantidad_de_elementos= int(input(\"ingrese la cantidad de elementos: \"))\n",
    "for numeros in range(cantidad_de_elementos):\n",
    "    numeros=int(input(\"ingrese los numeros: \"))\n",
    "    lista_de_numeros.append(numeros)\n",
    "    \n",
    "numero_especifico=int(input(\"ingrese el numero a eliminar: \"))\n",
    "\n",
    "    \n",
    "eliminar_elemento(lista_de_numeros, numero_especifico)\n",
    "        \n",
    "    \n",
    "    "
   ]
  },
  {
   "cell_type": "code",
   "execution_count": 58,
   "id": "a7aa6216",
   "metadata": {},
   "outputs": [
    {
     "name": "stdout",
     "output_type": "stream",
     "text": [
      "1\n",
      "2\n",
      "3\n",
      "4\n",
      "5\n",
      "6\n",
      "7\n",
      "8\n",
      "9\n",
      "10\n"
     ]
    }
   ],
   "source": [
    "#le pedimos el numero al usuario\n",
    "pedir_numero= int(input(\"ingrese el numero: \"))\n",
    "contador= 0\n",
    "while contador<pedir_numero:\n",
    "    if contador!=pedir_numero:\n",
    "        contador +=1\n",
    "        print(contador)        \n",
    "    "
   ]
  },
  {
   "cell_type": "code",
   "execution_count": 61,
   "id": "500a75e1",
   "metadata": {},
   "outputs": [
    {
     "name": "stdout",
     "output_type": "stream",
     "text": [
      "[34, 56, 2, 1, 4, 355]\n",
      "34\n",
      "56\n",
      "355\n"
     ]
    }
   ],
   "source": [
    "lista_de_numeros=[]\n",
    "cantidad_de_numeros=int(input(\"ingrese la cantidad de numeros: \"))\n",
    "for numero in range(cantidad_de_numeros):\n",
    "    elemento=int(input(\"ingrese los numeros\"))\n",
    "    lista_de_numeros.append(elemento)\n",
    "print(lista_de_numeros)\n",
    "for numero in lista_de_numeros:\n",
    "    if numero>10:\n",
    "        print(f\"{numero}\")    \n",
    "    else:\n",
    "        ()\n",
    "            \n",
    "    "
   ]
  }
 ],
 "metadata": {
  "kernelspec": {
   "display_name": "Python 3",
   "language": "python",
   "name": "python3"
  },
  "language_info": {
   "codemirror_mode": {
    "name": "ipython",
    "version": 3
   },
   "file_extension": ".py",
   "mimetype": "text/x-python",
   "name": "python",
   "nbconvert_exporter": "python",
   "pygments_lexer": "ipython3",
   "version": "3.13.3"
  }
 },
 "nbformat": 4,
 "nbformat_minor": 5
}
