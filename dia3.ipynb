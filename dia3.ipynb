{
 "cells": [
  {
   "cell_type": "code",
   "execution_count": 7,
   "id": "a235819b",
   "metadata": {},
   "outputs": [
    {
     "name": "stdout",
     "output_type": "stream",
     "text": [
      "hola mundo\n"
     ]
    }
   ],
   "source": [
    "def saludo():\n",
    "    print(\"hola mundo\")\n",
    "    \n",
    "saludo()    "
   ]
  },
  {
   "cell_type": "code",
   "execution_count": null,
   "id": "5a6c132c",
   "metadata": {},
   "outputs": [
    {
     "name": "stdout",
     "output_type": "stream",
     "text": [
      "auto\n"
     ]
    }
   ],
   "source": [
    "def variable(palabra):\n",
    "    print(f\"{palabra}\")\n",
    "    \n",
    "variable(\"auto\")    "
   ]
  },
  {
   "cell_type": "code",
   "execution_count": 2,
   "id": "d958cd68",
   "metadata": {},
   "outputs": [
    {
     "name": "stdout",
     "output_type": "stream",
     "text": [
      "8\n"
     ]
    }
   ],
   "source": [
    "def suma_numeros(a,b):\n",
    "    suma=a+b\n",
    "    print(suma)\n",
    "    \n",
    "suma_numeros(3,5)    "
   ]
  },
  {
   "cell_type": "code",
   "execution_count": 10,
   "id": "1732d08d",
   "metadata": {},
   "outputs": [
    {
     "name": "stdout",
     "output_type": "stream",
     "text": [
      "las letras son diferentes\n"
     ]
    }
   ],
   "source": [
    "def comparar_letras(letra1,letra2):\n",
    "    if letra1==letra2:\n",
    "        print(\"las letras son iguales\")\n",
    "    else:\n",
    "        print(\"las letras son diferentes\") \n",
    "comparar_letras(\"a\",\"b\")"
   ]
  },
  {
   "cell_type": "code",
   "execution_count": 14,
   "id": "bc580676",
   "metadata": {},
   "outputs": [
    {
     "data": {
      "text/plain": [
       "5"
      ]
     },
     "execution_count": 14,
     "metadata": {},
     "output_type": "execute_result"
    }
   ],
   "source": [
    "def suma(numero1, numero2):\n",
    "    sumatoria=numero1+ numero2\n",
    "    return sumatoria\n",
    "suma(2,3)\n"
   ]
  },
  {
   "cell_type": "code",
   "execution_count": null,
   "id": "4c9ffc1f",
   "metadata": {},
   "outputs": [
    {
     "ename": "NameError",
     "evalue": "name 'suma' is not defined",
     "output_type": "error",
     "traceback": [
      "\u001b[31m---------------------------------------------------------------------------\u001b[39m",
      "\u001b[31mNameError\u001b[39m                                 Traceback (most recent call last)",
      "\u001b[36mCell\u001b[39m\u001b[36m \u001b[39m\u001b[32mIn[1]\u001b[39m\u001b[32m, line 1\u001b[39m\n\u001b[32m----> \u001b[39m\u001b[32m1\u001b[39m suuma1=\u001b[43msuma\u001b[49m\n\u001b[32m      2\u001b[39m total= suuma1 + \u001b[32m3\u001b[39m\n\u001b[32m      3\u001b[39m \u001b[38;5;28mprint\u001b[39m(total)\n",
      "\u001b[31mNameError\u001b[39m: name 'suma' is not defined"
     ]
    }
   ],
   "source": [
    "suuma1=suma\n",
    "total= suuma1 + 3\n",
    "print(total)"
   ]
  },
  {
   "cell_type": "code",
   "execution_count": null,
   "id": "f0aadb14",
   "metadata": {},
   "outputs": [
    {
     "data": {
      "text/plain": [
       "True"
      ]
     },
     "execution_count": 2,
     "metadata": {},
     "output_type": "execute_result"
    }
   ],
   "source": [
    "def compararcantidad(palabra, numero):\n",
    "    while len(palabra) != numero:\n",
    "        return False\n",
    "    return True\n",
    "\n",
    "compararcantidad(\"a\", 1)"
   ]
  },
  {
   "cell_type": "code",
   "execution_count": 3,
   "id": "3cc24fb7",
   "metadata": {},
   "outputs": [
    {
     "name": "stdout",
     "output_type": "stream",
     "text": [
      "[['d', 'k', 'f']]\n",
      "[['d', 'k', 'f'], ['d', 'f']]\n",
      "[['d', 'k', 'f'], ['d', 'f'], ['d', 's']]\n"
     ]
    }
   ],
   "source": [
    "palabras_ingresadas = []\n",
    "for i in range(3):\n",
    "    palabra_user = input('Introduce una palabra crack:')\n",
    "    palabras_ingresadas.append(list(palabra_user))\n",
    "    print(palabras_ingresadas)"
   ]
  },
  {
   "cell_type": "code",
   "execution_count": 8,
   "id": "2cc16271",
   "metadata": {},
   "outputs": [
    {
     "name": "stdout",
     "output_type": "stream",
     "text": [
      "['h', 'o', 'l', 'i', 's']\n",
      "['h', 'e', 'l', 'l', 'o']\n",
      "['h', 'a', 'l', 'l', 'o']\n"
     ]
    }
   ],
   "source": [
    "lista=[['h','o','l','i','s'],['h','e','l','l','o'],['h','a','l','l','o']]\n",
    "def grilla(lista):       \n",
    "    for fila in lista:\n",
    "        print(fila)\n",
    "        \n",
    "grilla(lista)        \n",
    "        "
   ]
  },
  {
   "cell_type": "code",
   "execution_count": 1,
   "id": "b67a6f03",
   "metadata": {},
   "outputs": [
    {
     "name": "stdout",
     "output_type": "stream",
     "text": [
      "Bienvenido a Wordle\n",
      "te quedan 6\n",
      "ingrese una palabra con 5 letras\n",
      "te quedan 6\n",
      "ingrese una palabra con 5 letras\n",
      "te quedan 6\n",
      "['(s)', 'k', 'n', 'f', 'k']\n",
      "te quedan 5\n",
      "['(s)', 'k', 'n', 'f', 'k']\n",
      "['[v]', '[i]', '[r]', '[u]', '[s]']\n",
      "GANASTEEE\n"
     ]
    }
   ],
   "source": [
    "# Definir palabra a encontrar, intentos, cantidad de letras\n",
    "palabra_a_encontrar = \"virus\"\n",
    "cantidad_de_letras = 5\n",
    "intentos = 6\n",
    "\n",
    "# comparamos las palabras (posicion correcta, si existe en la palabra o si no existe)\n",
    "def verificar_palabra_ingresada(palabra_a_encontrar, palabra_ingresada):\n",
    "\n",
    "    # definir una lista y agregar las letras verificadas\n",
    "    resultado = []\n",
    "\n",
    "    for posicion in range(cantidad_de_letras):\n",
    "        las_letras_son_iguales = palabra_a_encontrar[posicion] == palabra_ingresada[posicion]\n",
    "\n",
    "        la_letra_existe = palabra_ingresada[posicion] in palabra_a_encontrar\n",
    "\n",
    "        if las_letras_son_iguales:\n",
    "            # agregar las letras entre corchetes\n",
    "            resultado.append('['+palabra_ingresada[posicion]+']')\n",
    "        elif la_letra_existe:\n",
    "            resultado.append('('+palabra_ingresada[posicion]+')')\n",
    "        else: \n",
    "            resultado.append(palabra_ingresada[posicion])\n",
    "\n",
    "    return resultado\n",
    "\n",
    "# hacer la grilla\n",
    "def imprimir_grilla(grilla):\n",
    "    cantidad_de_filas = len(grilla)\n",
    "\n",
    "    for fila in range(cantidad_de_filas):\n",
    "        print(grilla[fila])\n",
    "\n",
    "grilla = []\n",
    "# bienvenida al wordle\n",
    "print(\"Bienvenido a Wordle\")\n",
    "# restar la cantidad de intentos\n",
    "while intentos > 0:\n",
    "    print(f\"te quedan {intentos}\")\n",
    "    palabra_ingresada = input(\"Ingrese la Palabra\")\n",
    "    \n",
    "\n",
    "    if len(palabra_ingresada) != cantidad_de_letras:\n",
    "        print(f\"ingrese una palabra con {cantidad_de_letras} letras\")\n",
    "        continue \n",
    "    else:\n",
    "# verificamos la palabras \n",
    "        linea_verificada = verificar_palabra_ingresada(palabra_a_encontrar, palabra_ingresada)\n",
    "        grilla.append(linea_verificada)\n",
    "    \n",
    "    intentos = intentos - 1\n",
    "    imprimir_grilla(grilla)\n",
    "    if palabra_ingresada == palabra_a_encontrar:\n",
    "        print(\"GANASTEEE\")\n",
    "        break\n"
   ]
  }
 ],
 "metadata": {
  "kernelspec": {
   "display_name": "Python 3",
   "language": "python",
   "name": "python3"
  },
  "language_info": {
   "codemirror_mode": {
    "name": "ipython",
    "version": 3
   },
   "file_extension": ".py",
   "mimetype": "text/x-python",
   "name": "python",
   "nbconvert_exporter": "python",
   "pygments_lexer": "ipython3",
   "version": "3.13.3"
  }
 },
 "nbformat": 4,
 "nbformat_minor": 5
}
