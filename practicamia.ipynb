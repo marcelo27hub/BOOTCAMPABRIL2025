{
 "cells": [
  {
   "cell_type": "code",
   "execution_count": 12,
   "id": "1c70d5d2",
   "metadata": {},
   "outputs": [
    {
     "name": "stdout",
     "output_type": "stream",
     "text": [
      "¡Excelente marcelo! Promedio: 70.3, Asistencia: 90.0%. Aprobaste.\n"
     ]
    }
   ],
   "source": [
    "def evaluar_estudiante_completo(nombre, nota1, nota2, nota3, asistencias, total_clases):\n",
    "    porcentaje_asistencias= (asistencias/total_clases)*100\n",
    "    promedio_notas= (nota1+nota2+nota3)/3\n",
    "    if promedio_notas >6 and porcentaje_asistencias>75:\n",
    "        return f\"¡Excelente {nombre}! Promedio: {round(promedio_notas, 1)}, Asistencia: {round(porcentaje_asistencias, 1)}%. Aprobaste.\"\n",
    "    else:\n",
    "        return f\"Lo siento {nombre}. Promedio: {round(promedio_notas, 1)}, Asistencia: {round(porcentaje_asistencias, 1)}%. No aprobaste.\"\n",
    "total_clases= 30     \n",
    "nombre= input(\"ingrese el nombre del estudiante: \") \n",
    "nota1=int(input(\"ingrese la primera nota del estudiante: \"))\n",
    "nota2=int(input(\"ingrese la segunda nota del estudiante: \"))\n",
    "nota3=int(input(\"ingrese la tercera nota del estudiante: \"))\n",
    "asistencias=int(input(\"ingrese las asistencias del estudiante: \"))\n",
    "\n",
    "mensaje=evaluar_estudiante_completo(nombre, nota1, nota2, nota3, asistencias, total_clases)\n",
    "print(mensaje)\n",
    "\n",
    "  \n",
    "\n",
    "\n",
    "    \n",
    "    "
   ]
  },
  {
   "cell_type": "code",
   "execution_count": 24,
   "id": "939dbf9f",
   "metadata": {},
   "outputs": [
    {
     "name": "stdout",
     "output_type": "stream",
     "text": [
      "marcelo 7\n"
     ]
    }
   ],
   "source": [
    "\n",
    "\n",
    "def nombre_mas_largo_y_cantidad(lista_de_nombres):\n",
    "    \n",
    "    nombre_largo=\" \"\n",
    "    for nombre in lista_de_nombres:\n",
    "        if len(nombre)>len(nombre_largo):\n",
    "            nombre_largo=nombre\n",
    "    return nombre_largo, len(nombre_largo)\n",
    "    \n",
    "lista_de_nombres=[\"marcelo\", \"elias\", \"joaquin\", \"enciso\"]\n",
    "\n",
    "nombre_largo, cantidad= nombre_mas_largo_y_cantidad(lista_de_nombres)\n",
    "print(nombre_largo, cantidad)\n",
    "\n",
    "\n",
    "    \n",
    "            "
   ]
  },
  {
   "cell_type": "code",
   "execution_count": 34,
   "id": "1119e4ae",
   "metadata": {},
   "outputs": [
    {
     "name": "stdout",
     "output_type": "stream",
     "text": [
      "['tomate', 'coche', 'avion', 'palo']\n",
      "['tomate', 'avion']\n"
     ]
    }
   ],
   "source": [
    "\n",
    "def eliminar_varios_elementos(lista_de_palabras, lista_de_palabras_a_eliminar):\n",
    "    print(lista_de_palabras)\n",
    "    for palabra in lista_de_palabras_a_eliminar:\n",
    "        while palabra in lista_de_palabras:\n",
    "            lista_de_palabras.remove(palabra)\n",
    "    print(lista_de_palabras)        \n",
    "lista_de_palabras=['tomate','coche','avion','palo']\n",
    "lista_de_palabras_a_eliminar=['palo','coche']    \n",
    "eliminar_varios_elementos(lista_de_palabras, lista_de_palabras_a_eliminar)\n",
    "    "
   ]
  },
  {
   "cell_type": "code",
   "execution_count": 45,
   "id": "7d704687",
   "metadata": {},
   "outputs": [
    {
     "name": "stdout",
     "output_type": "stream",
     "text": [
      "1\n"
     ]
    }
   ],
   "source": [
    "numero=int(input(\"ingrese un numero: \"))\n",
    "print(numero)\n",
    "while numero>1:\n",
    "    numero=numero-1    \n",
    "    print(numero)\n"
   ]
  },
  {
   "cell_type": "code",
   "execution_count": 49,
   "id": "23e6e81c",
   "metadata": {},
   "outputs": [
    {
     "name": "stdout",
     "output_type": "stream",
     "text": [
      "[1, 2, 4, -5, -7, -90, 8, -1, -2, -3, 0]\n",
      "[1, 2, 4, 8]\n"
     ]
    }
   ],
   "source": [
    "lista_de_numeros_enteros=[1,2,4,-5,-7,-90,8,-1,-2,-3, 0]\n",
    "lista_de_numeros_positivos=[]\n",
    "print(lista_de_numeros_enteros)\n",
    "for numero in lista_de_numeros_enteros:\n",
    "    if numero>0:\n",
    "        lista_de_numeros_positivos.append(numero)\n",
    "print(lista_de_numeros_positivos)        "
   ]
  }
 ],
 "metadata": {
  "kernelspec": {
   "display_name": "Python 3",
   "language": "python",
   "name": "python3"
  },
  "language_info": {
   "codemirror_mode": {
    "name": "ipython",
    "version": 3
   },
   "file_extension": ".py",
   "mimetype": "text/x-python",
   "name": "python",
   "nbconvert_exporter": "python",
   "pygments_lexer": "ipython3",
   "version": "3.13.3"
  }
 },
 "nbformat": 4,
 "nbformat_minor": 5
}
