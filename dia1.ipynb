{
 "cells": [
  {
   "cell_type": "code",
   "execution_count": 6,
   "id": "772c4120",
   "metadata": {},
   "outputs": [
    {
     "name": "stdout",
     "output_type": "stream",
     "text": [
      "hola mundo\n"
     ]
    }
   ],
   "source": [
    "\n",
    "print(\"hola mundo\")"
   ]
  },
  {
   "cell_type": "markdown",
   "id": "7eee0187",
   "metadata": {},
   "source": [
    "## variable\n",
    "Las variables son espacios de memoria de la computadora en los cuales podemos guardar datos durante la ejecucion de nuestro programa.\n"
   ]
  },
  {
   "cell_type": "code",
   "execution_count": 7,
   "id": "38f41559",
   "metadata": {},
   "outputs": [
    {
     "name": "stdout",
     "output_type": "stream",
     "text": [
      "Marcelo\n",
      "Valdez\n"
     ]
    }
   ],
   "source": [
    "nombre= \"Marcelo\"\n",
    "apellido= \"Valdez\"\n",
    "print(nombre)\n",
    "print(apellido)\n"
   ]
  },
  {
   "cell_type": "code",
   "execution_count": 8,
   "id": "37ad8397",
   "metadata": {},
   "outputs": [
    {
     "name": "stdout",
     "output_type": "stream",
     "text": [
      "naranja\n",
      "5\n",
      "manzana\n"
     ]
    }
   ],
   "source": [
    "frutas=\"naranja\"\n",
    "print(frutas)\n",
    "cantidad_de_frutas=5\n",
    "print(cantidad_de_frutas)\n",
    "frutas=\"manzana\"\n",
    "print(frutas)"
   ]
  },
  {
   "cell_type": "code",
   "execution_count": 9,
   "id": "f21d0d9b",
   "metadata": {},
   "outputs": [
    {
     "name": "stdout",
     "output_type": "stream",
     "text": [
      "manzana, pera\n"
     ]
    }
   ],
   "source": [
    "frutas=\"manzana, pera\"\n",
    "print(frutas)"
   ]
  },
  {
   "cell_type": "markdown",
   "id": "ffde29c9",
   "metadata": {},
   "source": [
    "## Tipos de datos\n",
    "- int- integer - 112\n",
    "- float- floatin - 1.2\n",
    "- str- string - \"marcelo\" \"Valdez\"\n",
    "- bol- boolean - True - False"
   ]
  },
  {
   "cell_type": "code",
   "execution_count": 10,
   "id": "985dd5e1",
   "metadata": {},
   "outputs": [
    {
     "name": "stdout",
     "output_type": "stream",
     "text": [
      "\"Marcelo\"\n",
      "\"Marcelo\"\n"
     ]
    }
   ],
   "source": [
    "numero= 12345\n",
    "numero_decimal= 1.2\n",
    "nombre= '\"Marcelo\"'\n",
    "print(nombre)\n",
    "cajon_abierto = False\n",
    "cajon_cerrado = True\n",
    "print(nombre)\n"
   ]
  },
  {
   "cell_type": "markdown",
   "id": "09cac814",
   "metadata": {},
   "source": [
    "## Operaciones aritmeticas\n",
    "- Tambien podemos reaalizar operaciones matematicas, como en las calculadoras \n",
    "- Python lee la cuenta de izquierda a derecha y sigue reglas de precederia coomo en matematica\n",
    "- suma + \n",
    "- resta -\n",
    "- division /\n",
    "- multiplicacion *\n",
    "- division entera //\n",
    "\n",
    "\n"
   ]
  },
  {
   "cell_type": "code",
   "execution_count": 11,
   "id": "84545868",
   "metadata": {},
   "outputs": [
    {
     "name": "stdout",
     "output_type": "stream",
     "text": [
      "35000\n",
      "30000\n",
      "5066.666666666667\n"
     ]
    }
   ],
   "source": [
    "#suma\n",
    "precio_total = 15000 + 20000\n",
    "print(precio_total)\n",
    "\n",
    "#resta\n",
    "precio_descuento = precio_total-5000\n",
    "print(precio_descuento)\n",
    "#declaramos las variables\n",
    "precio_gaseosa = 19000\n",
    "cantidad_gaseosa = 4\n",
    "cantidad_de_personas = 15\n",
    "\n",
    "# hallamos nuestro precio final \n",
    "precio_final = precio_gaseosa * cantidad_gaseosa\n",
    "\n",
    "# hallamos cuanto va a pagar cada personas\n",
    "promedio_personas = precio_final/cantidad_de_personas\n",
    "print(promedio_personas)\n"
   ]
  },
  {
   "cell_type": "code",
   "execution_count": 12,
   "id": "4a9a412d",
   "metadata": {},
   "outputs": [
    {
     "name": "stdout",
     "output_type": "stream",
     "text": [
      "9\n",
      "6\n"
     ]
    }
   ],
   "source": [
    "#declaramos las variables \"cantidad de manzanas\" y \"cantidad de naranjas\"\n",
    "cantidad_de_manzanas = 4\n",
    "cantidad_de_naranjas = 5\n",
    "#la suma entre las dos cantidades guardado en una variable cantidad de frutas\n",
    "cantidad_de_frutas = cantidad_de_manzanas + cantidad_de_naranjas\n",
    "\n",
    "#imprimimos la cantidad de frutas\n",
    "print(cantidad_de_frutas)\n",
    "\n",
    "#declaramos la variable \"frutas vendidas\"\n",
    "frutas_vendidas = 3\n",
    "\n",
    "#hallamos las frutas restantes\n",
    "frutas_restantes = cantidad_de_frutas-frutas_vendidas\n",
    "\n",
    "#imprimimos las frutas restantes\n",
    "print(frutas_restantes)\n",
    "\n",
    "\n",
    "\n",
    "\n",
    "\n",
    "\n"
   ]
  },
  {
   "cell_type": "code",
   "execution_count": 13,
   "id": "ab659d9c",
   "metadata": {},
   "outputs": [
    {
     "name": "stdout",
     "output_type": "stream",
     "text": [
      "Marcelo Valdez\n",
      "hola, mi nombre es Marcelo Valdez\n"
     ]
    }
   ],
   "source": [
    "nombre = \"Marcelo\"\n",
    "apellido = \"Valdez\"\n",
    "nombre_completo = nombre + ' ' + apellido\n",
    "print(nombre_completo)\n",
    "print(f\"hola, mi nombre es {nombre} {apellido}\")"
   ]
  },
  {
   "cell_type": "code",
   "execution_count": 14,
   "id": "0a642242",
   "metadata": {},
   "outputs": [
    {
     "name": "stdout",
     "output_type": "stream",
     "text": [
      "hola. Me llamo Jorge Gimenez. Mucho gusto.\n",
      "hola. Me llamo Jorge Gimenez. Mucho gusto.\n"
     ]
    }
   ],
   "source": [
    "#declaramos las variables nombre y apellido\n",
    "nombre = \"Jorge\"\n",
    "apellido = \"Gimenez\"\n",
    "#guardamos en una variable nuestro nombre y apellido espaciados \n",
    "nombre_completo = nombre + \" \" + apellido\n",
    "#imprimimos  concatenando \n",
    "print(\"hola. Me llamo\" + \" \" + nombre_completo +\". Mucho gusto.\" )\n",
    "#imprimimos con f string\n",
    "print(f\"hola. Me llamo {nombre} {apellido}. Mucho gusto.\")"
   ]
  },
  {
   "cell_type": "code",
   "execution_count": 15,
   "id": "e52b5a58",
   "metadata": {},
   "outputs": [
    {
     "ename": "ValueError",
     "evalue": "invalid literal for int() with base 10: ''",
     "output_type": "error",
     "traceback": [
      "\u001b[31m---------------------------------------------------------------------------\u001b[39m",
      "\u001b[31mValueError\u001b[39m                                Traceback (most recent call last)",
      "\u001b[36mCell\u001b[39m\u001b[36m \u001b[39m\u001b[32mIn[15]\u001b[39m\u001b[32m, line 4\u001b[39m\n\u001b[32m      1\u001b[39m \u001b[38;5;66;03m#nombre=input(\"¿Cual es tu nombre?=\")\u001b[39;00m\n\u001b[32m      2\u001b[39m \u001b[38;5;66;03m#print(nombre)\u001b[39;00m\n\u001b[32m----> \u001b[39m\u001b[32m4\u001b[39m numero1 = \u001b[38;5;28;43mint\u001b[39;49m\u001b[43m(\u001b[49m\u001b[38;5;28;43minput\u001b[39;49m\u001b[43m(\u001b[49m\u001b[33;43m\"\u001b[39;49m\u001b[33;43mdame un numero =\u001b[39;49m\u001b[33;43m\"\u001b[39;49m\u001b[43m)\u001b[49m\u001b[43m)\u001b[49m\n\u001b[32m      5\u001b[39m numero2 = \u001b[38;5;28mint\u001b[39m(\u001b[38;5;28minput\u001b[39m(\u001b[33m\"\u001b[39m\u001b[33mdame otro numero =\u001b[39m\u001b[33m\"\u001b[39m))\n\u001b[32m      6\u001b[39m suma = numero1 +  numero2\n",
      "\u001b[31mValueError\u001b[39m: invalid literal for int() with base 10: ''"
     ]
    }
   ],
   "source": [
    "#nombre=input(\"¿Cual es tu nombre?=\")\n",
    "#print(nombre)\n",
    "\n",
    "numero1 = int(input(\"dame un numero =\"))\n",
    "numero2 = int(input(\"dame otro numero =\"))\n",
    "suma = numero1 +  numero2\n",
    "print(suma)\n"
   ]
  },
  {
   "cell_type": "code",
   "execution_count": null,
   "id": "fe418906",
   "metadata": {},
   "outputs": [
    {
     "name": "stdout",
     "output_type": "stream",
     "text": [
      "<class 'int'>\n"
     ]
    }
   ],
   "source": [
    "print(type(numero1))\n",
    "\n"
   ]
  },
  {
   "cell_type": "code",
   "execution_count": null,
   "id": "1db980b1",
   "metadata": {},
   "outputs": [
    {
     "name": "stdout",
     "output_type": "stream",
     "text": [
      "5.0\n"
     ]
    }
   ],
   "source": [
    "#creamos nuestras variables\n",
    "num1=float(input(\"ingrese un numero =\"))\n",
    "num2=float(input(\"ingrese el otro numero =\"))\n",
    "#hacemos la suma entre esos dos variables\n",
    "suma = num1 + num2\n",
    "#imprimimos la suma \n",
    "print(suma)"
   ]
  },
  {
   "cell_type": "markdown",
   "id": "130df2db",
   "metadata": {},
   "source": [
    "## definicion funciones\n",
    "Las funciones son un conjuntos de onstrucciones de una operacion que quiesieramos volver a repetir en diferentes partes de nuestro programa.\n",
    "\n",
    "las funciones existen para permitirlos reutilizar codigo que ya escribimos anteriormente, sin la necesidad de volver a escribirlo"
   ]
  },
  {
   "cell_type": "code",
   "execution_count": null,
   "id": "5791027f",
   "metadata": {},
   "outputs": [
    {
     "name": "stdout",
     "output_type": "stream",
     "text": [
      "abrir el pan\n",
      "agregar jamon\n",
      "agregar queso\n",
      "cerrar pan\n",
      "listo\n",
      "listo\n",
      "abrir el pan\n",
      "agregar jamon\n",
      "agregar queso\n",
      "cerrar pan\n"
     ]
    }
   ],
   "source": [
    "def preparar_sandwich():\n",
    "    print(\"abrir el pan\")\n",
    "    print(\"agregar jamon\")\n",
    "    print(\"agregar queso\")\n",
    "    print(\"cerrar pan\")\n",
    "    print(\"listo\")\n",
    "preparar_sandwich()\n",
    "def preparar_sandwich():\n",
    "    print(\"abrir el pan\")\n",
    "    print(\"agregar jamon\")\n",
    "    print(\"agregar queso\")\n",
    "    print(\"cerrar pan\")\n",
    "print(\"listo\")\n",
    "preparar_sandwich()"
   ]
  },
  {
   "cell_type": "code",
   "execution_count": null,
   "id": "c2693d35",
   "metadata": {},
   "outputs": [
    {
     "name": "stdout",
     "output_type": "stream",
     "text": [
      "enviar preinscripcion\n",
      "esperar a ser aceptado para la entrevista\n",
      "ya siendo aceptado para la entreviste\n",
      "entrar a la entrevista\n",
      "responder a las preguntas de la entrevistadora\n",
      "una vez culminado la entrevista\n",
      "esperar la respuesta\n",
      "aceptado\n",
      "enviar preinscripcion\n",
      "esperar a ser aceptado para la entrevista\n",
      "ya siendo aceptado para la entreviste\n",
      "entrar a la entrevista\n",
      "responder a las preguntas de la entrevistadora\n",
      "una vez culminado la entrevista\n",
      "esperar la respuesta\n",
      "aceptado\n",
      "enviar preinscripcion\n",
      "esperar a ser aceptado para la entrevista\n",
      "ya siendo aceptado para la entreviste\n",
      "entrar a la entrevista\n",
      "responder a las preguntas de la entrevistadora\n",
      "una vez culminado la entrevista\n",
      "esperar la respuesta\n",
      "aceptado\n"
     ]
    }
   ],
   "source": [
    "def ser_parte_de_codepro():\n",
    "    print(\"enviar preinscripcion\")\n",
    "    print(\"esperar a ser aceptado para la entrevista\")\n",
    "    print(\"ya siendo aceptado para la entreviste\")\n",
    "    print(\"entrar a la entrevista\")\n",
    "    print(\"responder a las preguntas de la entrevistadora\")\n",
    "    print(\"una vez culminado la entrevista\")\n",
    "    print(\"esperar la respuesta\")\n",
    "    print(\"aceptado\")\n",
    "ser_parte_de_codepro() \n",
    "ser_parte_de_codepro() \n",
    "ser_parte_de_codepro()    "
   ]
  },
  {
   "cell_type": "markdown",
   "id": "de6ef782",
   "metadata": {},
   "source": [
    "## parametros y argumentos\n",
    "a veces queremos ejecutar \"casi\" la misma funcion varias veces \n",
    "\n",
    "Las funciones pueden recibir informacion desde afuera, para poder hacer cosas diferentes cada vez que se usan. Esa informacion sepasa atravez de parametros (cuando definimos la funcion) y argumentos (cuando llamammos a la funcion)\n"
   ]
  },
  {
   "cell_type": "code",
   "execution_count": null,
   "id": "fbabc5b6",
   "metadata": {},
   "outputs": [
    {
     "name": "stdout",
     "output_type": "stream",
     "text": [
      "abrir el pan\n",
      "agregar el huevo\n",
      "cerrar el pan\n",
      "listo!\n",
      "abrir el pan\n",
      "agregar la lechuga y el tomate\n",
      "cerrar el pan\n",
      "listo!\n"
     ]
    }
   ],
   "source": [
    "def preparar_sandwich(ingredientes):\n",
    "    print('abrir el pan')\n",
    "    print(f'agregar {ingredientes}')\n",
    "    print('cerrar el pan')\n",
    "    print('listo!')\n",
    "preparar_sandwich(\"el huevo\") \n",
    "preparar_sandwich(\"la lechuga y el tomate\")    "
   ]
  },
  {
   "cell_type": "code",
   "execution_count": null,
   "id": "9a16b927",
   "metadata": {},
   "outputs": [
    {
     "name": "stdout",
     "output_type": "stream",
     "text": [
      "El elemento registrado es: \n",
      "nombre = radio\n",
      "color = negro\n",
      "tamaño = 30 cm de altura\n",
      "precio = 300 mil\n"
     ]
    }
   ],
   "source": [
    "def pregunta_caracteristicas():\n",
    "    nombre= input(\"cual es el nombre del elemento?\")\n",
    "    color= input(\"cual es el color del elemento?\")\n",
    "    tamaño= input(\"cual es el tamano del elemento?\")\n",
    "    precio= input(\"cual es el precio del elemento?\")\n",
    "    print(\"El elemento registrado es: \")\n",
    "    print(f\"nombre = {nombre}\")\n",
    "    print(f\"color = {color}\")\n",
    "    print(f\"tamaño = {tamaño}\")\n",
    "    print(f\"precio = {precio}\")\n",
    "pregunta_caracteristicas()    \n",
    "   "
   ]
  },
  {
   "cell_type": "markdown",
   "id": "ad0f7a38",
   "metadata": {},
   "source": [
    "Cuando usamos variables en python, tenemos que entender donde viven esas variables, es decir su alcance o scope\n",
    "hay dos tipos principales\n",
    "alcance local: \n",
    "alacance global: la variable vive fuera de todas las funciones y se puede usar en todo el programa"
   ]
  },
  {
   "cell_type": "code",
   "execution_count": 16,
   "id": "75e61594",
   "metadata": {},
   "outputs": [
    {
     "name": "stdout",
     "output_type": "stream",
     "text": [
      "estoy cocinando Carne\n"
     ]
    }
   ],
   "source": [
    "def preparar_comida():\n",
    "    ingredientes = \"Carne\"\n",
    "    print(f\"estoy cocinando {ingredientes}\")\n",
    "preparar_comida()    "
   ]
  },
  {
   "cell_type": "code",
   "execution_count": null,
   "id": "6d72dad4",
   "metadata": {},
   "outputs": [
    {
     "name": "stdout",
     "output_type": "stream",
     "text": [
      "estoy cocinando Carne\n"
     ]
    }
   ],
   "source": [
    "ingredientes= \"pollo\"\n",
    "\n",
    "preparar_comida()"
   ]
  }
 ],
 "metadata": {
  "kernelspec": {
   "display_name": "Python 3",
   "language": "python",
   "name": "python3"
  },
  "language_info": {
   "codemirror_mode": {
    "name": "ipython",
    "version": 3
   },
   "file_extension": ".py",
   "mimetype": "text/x-python",
   "name": "python",
   "nbconvert_exporter": "python",
   "pygments_lexer": "ipython3",
   "version": "3.13.3"
  }
 },
 "nbformat": 4,
 "nbformat_minor": 5
}
