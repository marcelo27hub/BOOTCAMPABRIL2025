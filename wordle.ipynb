{
 "cells": [
  {
   "cell_type": "code",
   "execution_count": null,
   "id": "c322ef48",
   "metadata": {},
   "outputs": [
    {
     "name": "stdout",
     "output_type": "stream",
     "text": [
      "Bienvenido a Wordle\n",
      "te quedan 6\n"
     ]
    }
   ],
   "source": [
    "# Definir palabra a encontrar, intentos, cantidad de letras\n",
    "palabra_a_encontrar = \"virus\"\n",
    "cantidad_de_letras = 5\n",
    "intentos = 6\n",
    "\n",
    "# comparamos las palabras (posicion correcta, si existe en la palabra o si no existe)\n",
    "def verificar_palabra_ingresada(palabra_a_encontrar, palabra_ingresada):\n",
    "\n",
    "    # definir una lista y agregar las letras verificadas\n",
    "    resultado = []\n",
    "\n",
    "    for posicion in range(cantidad_de_letras):\n",
    "        las_letras_son_iguales = palabra_a_encontrar[posicion] == palabra_ingresada[posicion]\n",
    "\n",
    "        la_letra_existe = palabra_ingresada[posicion] in palabra_a_encontrar\n",
    "\n",
    "        if las_letras_son_iguales:\n",
    "            # agregar las letras entre corchetes\n",
    "            resultado.append('['+palabra_ingresada[posicion]+']')\n",
    "        elif la_letra_existe:\n",
    "            resultado.append('('+palabra_ingresada[posicion]+')')\n",
    "        else: \n",
    "            resultado.append(palabra_ingresada[posicion])\n",
    "\n",
    "    return resultado\n",
    "\n",
    "# hacer la grilla\n",
    "def imprimir_grilla(grilla):\n",
    "    cantidad_de_filas = len(grilla)\n",
    "\n",
    "    for fila in range(cantidad_de_filas):\n",
    "        print(grilla[fila])\n",
    "\n",
    "grilla = []\n",
    "# bienvenida al wordle\n",
    "print(\"Bienvenido a Wordle\")\n",
    "# restar la cantidad de intentos\n",
    "while intentos > 0:\n",
    "    print(f\"te quedan {intentos}\")\n",
    "    palabra_ingresada = input(\"Ingrese la Palabra\")\n",
    "    \n",
    "\n",
    "    if len(palabra_ingresada) != cantidad_de_letras:\n",
    "        print(f\"ingrese una palabra con {cantidad_de_letras} letras\")\n",
    "        continue \n",
    "    else:\n",
    "# verificamos la palabras \n",
    "        linea_verificada = verificar_palabra_ingresada(palabra_a_encontrar, palabra_ingresada)\n",
    "        grilla.append(linea_verificada)\n",
    "    \n",
    "    intentos = intentos - 1\n",
    "    imprimir_grilla(grilla)\n",
    "    if palabra_ingresada == palabra_a_encontrar:\n",
    "        print(\"GANASTEEE\")\n",
    "        break\n",
    "\n"
   ]
  }
 ],
 "metadata": {
  "kernelspec": {
   "display_name": "Python 3",
   "language": "python",
   "name": "python3"
  },
  "language_info": {
   "codemirror_mode": {
    "name": "ipython",
    "version": 3
   },
   "file_extension": ".py",
   "mimetype": "text/x-python",
   "name": "python",
   "nbconvert_exporter": "python",
   "pygments_lexer": "ipython3",
   "version": "3.13.3"
  }
 },
 "nbformat": 4,
 "nbformat_minor": 5
}
