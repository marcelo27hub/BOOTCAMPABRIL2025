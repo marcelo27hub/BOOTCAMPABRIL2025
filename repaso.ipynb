{
 "cells": [
  {
   "cell_type": "code",
   "execution_count": 1,
   "id": "9b905fdf",
   "metadata": {},
   "outputs": [
    {
     "name": "stdout",
     "output_type": "stream",
     "text": [
      "hola mundo\n"
     ]
    }
   ],
   "source": [
    "print(\"hola mundo\")\n"
   ]
  },
  {
   "cell_type": "code",
   "execution_count": 2,
   "id": "44875b54",
   "metadata": {},
   "outputs": [
    {
     "name": "stdout",
     "output_type": "stream",
     "text": [
      "el cliente quiere una bicileta de la marca scott del modelo aspect 960 que cuesta 5 palos USD\n"
     ]
    }
   ],
   "source": [
    "def compra_de_autos(precio, marca, modelo):\n",
    "    print(f\"el cliente quiere una bicileta de la marca {marca} del modelo {modelo} que cuesta {precio} USD\")\n",
    "\n",
    "\n",
    "compra_de_autos(\"5 palos\",\"scott\",\"aspect 960\")"
   ]
  },
  {
   "cell_type": "code",
   "execution_count": 3,
   "id": "6c48c0ec",
   "metadata": {},
   "outputs": [
    {
     "name": "stdout",
     "output_type": "stream",
     "text": [
      "6\n"
     ]
    }
   ],
   "source": [
    "def suma(num1, num2):\n",
    "    '''esta es una funcion que hace una suma'''\n",
    "    resultado_de_suma = num1 + num2\n",
    "    return resultado_de_suma\n",
    "    print(\"hola\")\n",
    "\n",
    "resultado_de_mi_suma = suma(1,2)\n",
    "\n",
    "multiplicacion = resultado_de_mi_suma * 2\n",
    "print(multiplicacion)"
   ]
  },
  {
   "cell_type": "code",
   "execution_count": null,
   "id": "93fb0bc7",
   "metadata": {},
   "outputs": [],
   "source": [
    "numero1 = 10\n",
    "numero2 = 15\n",
    "\n",
    "\n",
    "if numero1 > numero2:\n",
    "    print(\"el numero 1 es mayor al numero 2\")\n",
    "else:\n",
    "    print(\"Numero 1 no es mayor\")"
   ]
  },
  {
   "cell_type": "code",
   "execution_count": null,
   "id": "231e21c1",
   "metadata": {},
   "outputs": [],
   "source": [
    "participantes = [\"Renzo\", \"Oliver\", \"Jimena\", \"Matias\"]"
   ]
  },
  {
   "cell_type": "code",
   "execution_count": 5,
   "id": "0e05d1b0",
   "metadata": {},
   "outputs": [
    {
     "name": "stdout",
     "output_type": "stream",
     "text": [
      "contrasenha_correcta\n"
     ]
    },
    {
     "data": {
      "text/plain": [
       "'pinguino123'"
      ]
     },
     "execution_count": 5,
     "metadata": {},
     "output_type": "execute_result"
    }
   ],
   "source": [
    "# Bucles Condicionales\n",
    "#Bucles Iterativos \n",
    "\n",
    "contrasenha_correcta = \"pinguino123\"\n",
    "contrasenha_usuario = input(\"Escribi la contrasenha\")\n",
    "\n",
    "while contrasenha_correcta != contrasenha_usuario:\n",
    "    print(\"contrasenha_incorrecta\")\n",
    "    contrasenha_usuario = input(\"Escribi la contrasenha\")\n",
    "print(\"contrasenha_correcta\")\n",
    "contrasenha_correcta"
   ]
  },
  {
   "cell_type": "code",
   "execution_count": null,
   "id": "d556c1d4",
   "metadata": {},
   "outputs": [],
   "source": [
    "for individuo in participantes:\n",
    "    print(individuo)"
   ]
  },
  {
   "cell_type": "code",
   "execution_count": null,
   "id": "5e9696e0",
   "metadata": {},
   "outputs": [],
   "source": [
    "nombre = \"Ana\"\n",
    "\n",
    "for numero in range(5):\n",
    "    print(numero)"
   ]
  }
 ],
 "metadata": {
  "kernelspec": {
   "display_name": "Python 3",
   "language": "python",
   "name": "python3"
  },
  "language_info": {
   "codemirror_mode": {
    "name": "ipython",
    "version": 3
   },
   "file_extension": ".py",
   "mimetype": "text/x-python",
   "name": "python",
   "nbconvert_exporter": "python",
   "pygments_lexer": "ipython3",
   "version": "3.13.3"
  }
 },
 "nbformat": 4,
 "nbformat_minor": 5
}
