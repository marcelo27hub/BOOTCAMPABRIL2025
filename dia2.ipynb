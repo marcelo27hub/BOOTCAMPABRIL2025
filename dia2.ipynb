{
 "cells": [
  {
   "cell_type": "code",
   "execution_count": 48,
   "id": "780e10b1",
   "metadata": {},
   "outputs": [
    {
     "name": "stdout",
     "output_type": "stream",
     "text": [
      "Buen dia carlos\n"
     ]
    }
   ],
   "source": [
    "def saludo_bienvenida(x):\n",
    "    print(f\"Buen dia {x}\")\n",
    "\n",
    "saludo_bienvenida(\"carlos\")"
   ]
  },
  {
   "cell_type": "code",
   "execution_count": 49,
   "id": "1963c490",
   "metadata": {},
   "outputs": [
    {
     "name": "stdout",
     "output_type": "stream",
     "text": [
      "hola Laura\n"
     ]
    }
   ],
   "source": [
    "def saludo(nombre):\n",
    "    print(f\"hola {nombre}\")\n",
    "\n",
    "saludo('Laura')"
   ]
  },
  {
   "cell_type": "markdown",
   "id": "1230f2b6",
   "metadata": {},
   "source": [
    "## Condicionales\n",
    "Ya conocemos el flujo de python, línea por línea.\n",
    "\n",
    "Las condiciones en programación nos permiten ejecutar diferentes bloques de código según si se cumple o no una condición. Esto es útil cuando queremos que el programa haga algo solo si se cumple una condición específica.\n",
    "\n",
    "Es como un guardia en una puerta controlando si las personas pueden o no ingresar a un lugar."
   ]
  },
  {
   "cell_type": "markdown",
   "id": "e90b2a99",
   "metadata": {},
   "source": [
    "## Operadores de comparación\n",
    "- Mayor >\n",
    "- Menor <\n",
    "- Mayor o igual >=\n",
    "- Menor o igual <=\n",
    "- Es igual ==\n",
    "- Diferente !="
   ]
  },
  {
   "cell_type": "markdown",
   "id": "e29d2c79",
   "metadata": {},
   "source": [
    "##  Palabras claves\n",
    "- if (si)\n",
    "- elif (sino si)\n",
    "- else (sino)"
   ]
  },
  {
   "cell_type": "code",
   "execution_count": 50,
   "id": "5b76128b",
   "metadata": {},
   "outputs": [
    {
     "name": "stdout",
     "output_type": "stream",
     "text": [
      "Es mayor de edad, podes ingresar\n"
     ]
    }
   ],
   "source": [
    "edad = 18\n",
    "\n",
    "if edad < 18:\n",
    "    print('Es menor, no podes ingresar')\n",
    "else:\n",
    "    print('Es mayor de edad, podes ingresar')"
   ]
  },
  {
   "cell_type": "code",
   "execution_count": 51,
   "id": "217c625d",
   "metadata": {},
   "outputs": [
    {
     "name": "stdout",
     "output_type": "stream",
     "text": [
      "Estudiante\n"
     ]
    }
   ],
   "source": [
    "edad_individuo = 17\n",
    "\n",
    "if edad_individuo < 18:\n",
    "    print('Estudiante')\n",
    "elif edad_individuo > 65:\n",
    "    print('Jubilado')\n",
    "else:\n",
    "    print('Trabajador')"
   ]
  },
  {
   "cell_type": "code",
   "execution_count": 52,
   "id": "48b2329d",
   "metadata": {},
   "outputs": [
    {
     "name": "stdout",
     "output_type": "stream",
     "text": [
      "Edad sufieciente para tomar y comprar alcohol\n",
      "juguito nms\n"
     ]
    }
   ],
   "source": [
    "print(\"Edad sufieciente para tomar y comprar alcohol\")\n",
    "edad=int(input(\"ingrese su edad =\"))\n",
    "if edad>21:\n",
    "    print(\"hace lo que quieras\")\n",
    "elif edad>18:\n",
    "    print(\"podes tomar pero no comprar\")\n",
    "else:\n",
    "    print(\"juguito nms\")        \n"
   ]
  },
  {
   "cell_type": "markdown",
   "id": "3d4bc45b",
   "metadata": {},
   "source": [
    "##  ¿Qué son los operadores lógicos?\n",
    "- Los operadores lógicos nos permiten combinar condiciones.\n",
    "- Los usamos cuando queremos que se cumplan dos o más condiciones a la vez o una u otra."
   ]
  },
  {
   "cell_type": "markdown",
   "id": "e0b74d44",
   "metadata": {},
   "source": [
    "##  Operadores Lógicos\n",
    "- and(y) - Se cumple solo si ambas condiciones son verdaderas.\n",
    "- or (o) - Se cumple si al menos una de las condiciones es verdadera.\n",
    "- not (no) - Niega la condición: si es verdadera, la convierte en falsa, y al revés."
   ]
  },
  {
   "cell_type": "code",
   "execution_count": 53,
   "id": "27b13985",
   "metadata": {},
   "outputs": [
    {
     "name": "stdout",
     "output_type": "stream",
     "text": [
      "Estudiante\n"
     ]
    }
   ],
   "source": [
    "edad_persona = 17\n",
    "trabaja = False\n",
    "\n",
    "if edad_persona < 18:\n",
    "    print('Estudiante')\n",
    "elif edad_persona < 65 and trabaja == True:\n",
    "    print('Activa laboralmente')\n",
    "elif edad_persona < 65 and trabaja == False:\n",
    "    print('Desempleado')\n",
    "else:\n",
    "    print(\"jubilado\")"
   ]
  },
  {
   "cell_type": "code",
   "execution_count": 54,
   "id": "47f4ed27",
   "metadata": {},
   "outputs": [
    {
     "name": "stdout",
     "output_type": "stream",
     "text": [
      "Activo laboralmente\n"
     ]
    }
   ],
   "source": [
    "def chequear_edad(edad_laboral, trabaja):\n",
    "    \n",
    "    if edad_laboral < 18:\n",
    "        print('Estudiante')\n",
    "    elif edad_laboral < 65 and trabaja == True:\n",
    "        print('Activo laboralmente')\n",
    "    elif edad_laboral < 65 and trabaja == False:\n",
    "        print('desempleado')\n",
    "    else:\n",
    "        print('jubilado')\n",
    "\n",
    "chequear_edad(40, True)"
   ]
  },
  {
   "cell_type": "code",
   "execution_count": 55,
   "id": "8129df14",
   "metadata": {},
   "outputs": [
    {
     "name": "stdout",
     "output_type": "stream",
     "text": [
      "La temperatura en grado celsius es 4\n",
      "fresquete\n"
     ]
    }
   ],
   "source": [
    "temperatura= int(input(\"a que grados celsius estamos amigo?\"))\n",
    "print(f\"La temperatura en grado celsius es {temperatura}\")\n",
    "if temperatura>=-11 and temperatura<=18:\n",
    "    print(\"fresquete\")\n",
    "elif temperatura>=19 and temperatura<=30:\n",
    "    print(\"calor'i\")\n",
    "elif temperatura >=31 and temperatura<=45:\n",
    "    print(\"hakuuuuuuuuuuu\")\n",
    "else:\n",
    "    print(\"ñamano mba'e\")       \n"
   ]
  },
  {
   "cell_type": "markdown",
   "id": "53111b7d",
   "metadata": {},
   "source": [
    "##  WHILE\n",
    "While nos permite ejecutar una serie de instrucciones mientras una condicion se cumpla. Al momento que la condicion deje de ser cierta el bucle va parar."
   ]
  },
  {
   "cell_type": "code",
   "execution_count": 56,
   "id": "a989b3de",
   "metadata": {},
   "outputs": [
    {
     "name": "stdout",
     "output_type": "stream",
     "text": [
      "3\n",
      "23\n",
      "3445\n",
      "8\n",
      "52\n",
      "10\n",
      "numero correcto\n",
      "10\n"
     ]
    }
   ],
   "source": [
    "numero_a_adivinar = 10\n",
    "numero = 3\n",
    "\n",
    "while numero != numero_a_adivinar:\n",
    "    numero = int(input('Introduce un numero'))\n",
    "    print(numero)\n",
    "\n",
    "print('numero correcto')\n",
    "print(numero)"
   ]
  },
  {
   "cell_type": "code",
   "execution_count": null,
   "id": "084705d6",
   "metadata": {},
   "outputs": [],
   "source": [
    "numero = 10\n",
    "\n",
    "while True:\n",
    "    numero_ingresado = int(input('Introduce un numero'))\n",
    "    if numero_ingresado == numero:\n",
    "        break\n",
    "        print('El numero es correcto')\n",
    "    else:\n",
    "        print('numero incorrecto')"
   ]
  },
  {
   "cell_type": "code",
   "execution_count": null,
   "id": "919680e9",
   "metadata": {},
   "outputs": [
    {
     "name": "stdout",
     "output_type": "stream",
     "text": [
      "contraseña incorrecta\n",
      "contraseña incorrecta\n",
      "contraseña incorrecta\n",
      "contraseña incorrecta\n",
      "contraseña incorrecta\n",
      "contraseña incorrecta\n",
      "contraseña incorrecta\n",
      "contraseña incorrecta\n",
      "contraseña incorrecta\n",
      "contraseña incorrecta\n",
      "contraseña incorrecta\n",
      "contraseña incorrecta\n",
      "cha q genio sos man!!\n"
     ]
    }
   ],
   "source": [
    "contraseña= \"pateconhuevo\"\n",
    "contraseña_pregunta = input(\"ingrese su contraseña:\")\n",
    "while True:\n",
    "    contraseña_pregunta= input(\"ingrese su contraseña:\") \n",
    "    if contraseña==contraseña_pregunta:\n",
    "        print(\"cha q genio sos man!!\")\n",
    "        break\n",
    "    else:\n",
    "        print(\"contraseña incorrecta\")    \n",
    "           "
   ]
  },
  {
   "cell_type": "code",
   "execution_count": 60,
   "id": "454a894f",
   "metadata": {},
   "outputs": [
    {
     "name": "stdout",
     "output_type": "stream",
     "text": [
      "contraseña incorrecta\n",
      "que kpo\n"
     ]
    }
   ],
   "source": [
    "contraseña= \"hoalamigoxd\"\n",
    "contraseña_pregunta= input(\"ingrese la contraseña = \")\n",
    "while contraseña!=contraseña_pregunta:\n",
    "    print(\"contraseña incorrecta\")\n",
    "    contraseña_pregunta=input(\"ingrese de nuevo la contraseña = \")\n",
    "    \n",
    "print(\"que kpo\")   "
   ]
  },
  {
   "cell_type": "markdown",
   "id": "6128c23e",
   "metadata": {},
   "source": [
    "##  Listas\n",
    "- Una lista es una agrupación de objetos, que pueden ser de distintos tipos de datos. Las construimos colocando los elementos entre corchetes [ ] y separados por comas."
   ]
  },
  {
   "cell_type": "code",
   "execution_count": 64,
   "id": "c4218f44",
   "metadata": {},
   "outputs": [
    {
     "name": "stdout",
     "output_type": "stream",
     "text": [
      "banana\n",
      "['pera', 'manzana', 'banana', 'kiwi']\n",
      "['pera', 'durazno', 'banana', 'kiwi']\n",
      "['durazno', 'banana', 'kiwi']\n",
      "['durazno', 'kiwi']\n",
      "2\n"
     ]
    }
   ],
   "source": [
    "lista_frutas = ['pera', 'manzana', 'banana']\n",
    "\n",
    "#diferentes tipos de datos\n",
    "lista_bool = [True, False, True]\n",
    "lista_numeros = [1, 2, 3, 4]\n",
    "\n",
    "print(lista_frutas[2])\n",
    "\n",
    "#Anhadir\n",
    "lista_frutas.append('kiwi')\n",
    "print(lista_frutas)\n",
    "\n",
    "#Modificar\n",
    "lista_frutas[1] = 'durazno'\n",
    "print(lista_frutas)\n",
    "\n",
    "#Eliminar un elemento especifico\n",
    "lista_frutas.remove('pera')\n",
    "print(lista_frutas)\n",
    "\n",
    "#Eliminar un elemento por indice\n",
    "lista_frutas.pop(1)\n",
    "print(lista_frutas)\n",
    "\n",
    "# Contar elementos de la lista\n",
    "print(len(lista_frutas))\n",
    "\n",
    "\n",
    "\n",
    "\n",
    "\n"
   ]
  },
  {
   "cell_type": "code",
   "execution_count": 66,
   "id": "a12f65c6",
   "metadata": {},
   "outputs": [
    {
     "name": "stdout",
     "output_type": "stream",
     "text": [
      "['camion', 'amigos', 'cerdito', 'peppapig', 'tele', 'locro']\n",
      "['camion', 'pescado', 'cerdito', 'peppapig', 'tele', 'locro']\n",
      "['camion', 'pescado', 'peppapig', 'tele', 'locro']\n"
     ]
    }
   ],
   "source": [
    "lista=[\"camion\", \"amigos\", \"cerdito\", \"peppapig\", \"tele\"]\n",
    "\n",
    "lista.append(\"locro\")\n",
    "print(lista)\n",
    "\n",
    "lista[1]=\"pescado\"\n",
    "print(lista)\n",
    "\n",
    "\n",
    "lista.remove(lista[2])\n",
    "print(lista)\n",
    "\n",
    "\n",
    "\n"
   ]
  },
  {
   "cell_type": "markdown",
   "id": "69768bdb",
   "metadata": {},
   "source": [
    "- cuaando queremos repetir una acción una cierta cantidad de veces, podemos utilizar un bucle iterativo.\n",
    "\n",
    "- Iteraciones: una acción repetida una cierta cantidad de veces, pero en cada repetición se tiene en cuenta el valor anterior."
   ]
  },
  {
   "cell_type": "code",
   "execution_count": 70,
   "id": "19812089",
   "metadata": {},
   "outputs": [
    {
     "name": "stdout",
     "output_type": "stream",
     "text": [
      "dia: 1\n",
      "dia: 2\n",
      "dia: 3\n",
      "dia: 4\n",
      "dia: 5\n",
      "dia: 6\n",
      "dia: 7\n"
     ]
    }
   ],
   "source": [
    "dias_de_la_semana=[1,2,3,4,5,6,7]\n",
    "for dia in dias_de_la_semana:\n",
    "    print(f\"dia: {dia}\")\n",
    "    "
   ]
  },
  {
   "cell_type": "code",
   "execution_count": 71,
   "id": "7908bfb0",
   "metadata": {},
   "outputs": [
    {
     "name": "stdout",
     "output_type": "stream",
     "text": [
      "hola buen dia \n",
      "hola buen dia \n",
      "hola buen dia \n",
      "hola buen dia \n",
      "hola buen dia \n"
     ]
    }
   ],
   "source": [
    "for i in range(5):\n",
    "    print('hola buen dia ')"
   ]
  },
  {
   "cell_type": "code",
   "execution_count": 72,
   "id": "6189cc87",
   "metadata": {},
   "outputs": [
    {
     "name": "stdout",
     "output_type": "stream",
     "text": [
      "pan\n",
      "queso\n",
      "coca\n",
      "leche\n",
      "ron\n"
     ]
    }
   ],
   "source": [
    "lista_compras = ['pan', 'queso', 'coca', 'leche', 'ron']\n",
    "\n",
    "for articulo in lista_compras:\n",
    "    print(articulo)\n",
    "    "
   ]
  },
  {
   "cell_type": "code",
   "execution_count": 76,
   "id": "cea87f91",
   "metadata": {},
   "outputs": [
    {
     "name": "stdout",
     "output_type": "stream",
     "text": [
      "0\n",
      "2\n",
      "4\n",
      "6\n",
      "8\n",
      "10\n",
      "12\n",
      "14\n",
      "16\n",
      "18\n"
     ]
    }
   ],
   "source": [
    "for i in range(10):\n",
    "    print(i*2)\n",
    "    "
   ]
  },
  {
   "cell_type": "code",
   "execution_count": null,
   "id": "a86d636f",
   "metadata": {},
   "outputs": [],
   "source": [
    "for i in range(1,11): # colocando solamente 10, la multiplicacion inicia en 0.\n",
    "    i_multiplicado = i * 2\n",
    "    print(i_multiplicado)\n",
    "    "
   ]
  },
  {
   "cell_type": "code",
   "execution_count": 78,
   "id": "e40469c3",
   "metadata": {},
   "outputs": [
    {
     "name": "stdout",
     "output_type": "stream",
     "text": [
      "adidas\n",
      "chanel\n",
      "supreme\n"
     ]
    }
   ],
   "source": [
    "#creamos una lista de marcas\n",
    "listas_de_marcas=[\"adidas\", \"chanel\",\"nike\",\"paco\",\"supreme\"]\n",
    "\n",
    "#rrecorrems la lista de marcas\n",
    "for marcas in listas_de_marcas:\n",
    "    if len(marcas)>=6:\n",
    "        print(marcas)\n",
    "        "
   ]
  },
  {
   "cell_type": "code",
   "execution_count": 79,
   "id": "d57afb96",
   "metadata": {},
   "outputs": [
    {
     "name": "stdout",
     "output_type": "stream",
     "text": [
      "s\n",
      "a\n",
      "l\n",
      "u\n",
      "d\n",
      "o\n"
     ]
    }
   ],
   "source": [
    "for letra in \"saludo\":\n",
    "    print(letra)\n",
    "    "
   ]
  },
  {
   "cell_type": "code",
   "execution_count": 117,
   "id": "086f835c",
   "metadata": {},
   "outputs": [
    {
     "name": "stdout",
     "output_type": "stream",
     "text": [
      "cooooooooooooooomooooooooooooooo\n",
      "la cantidad de letra o en la palabra es 30 \n"
     ]
    }
   ],
   "source": [
    "letra=\"o\"\n",
    "contador=0\n",
    "\n",
    "palabra_usuario=input('ingrese la palabra:')\n",
    "print(palabra_usuario)\n",
    "for letra in palabra_usuario:\n",
    "    if letra==\"o\":\n",
    "        contador+=1\n",
    "print(f\"la cantidad de letra o en la palabra es {contador} \")\n",
    "    \n",
    "    \n"
   ]
  },
  {
   "cell_type": "code",
   "execution_count": 116,
   "id": "7eeb65f6",
   "metadata": {},
   "outputs": [
    {
     "name": "stdout",
     "output_type": "stream",
     "text": [
      "la letra o aparece 2 veces\n"
     ]
    }
   ],
   "source": [
    "oracion = input(\"escribe una frase:\")\n",
    "contador = 0\n",
    "\n",
    "for letra in oracion:\n",
    "    if letra.lower() == \"o\":\n",
    "        contador += 1\n",
    "\n",
    "print(f\"la letra o aparece {contador} veces\")   "
   ]
  }
 ],
 "metadata": {
  "kernelspec": {
   "display_name": "Python 3",
   "language": "python",
   "name": "python3"
  },
  "language_info": {
   "codemirror_mode": {
    "name": "ipython",
    "version": 3
   },
   "file_extension": ".py",
   "mimetype": "text/x-python",
   "name": "python",
   "nbconvert_exporter": "python",
   "pygments_lexer": "ipython3",
   "version": "3.13.3"
  }
 },
 "nbformat": 4,
 "nbformat_minor": 5
}
